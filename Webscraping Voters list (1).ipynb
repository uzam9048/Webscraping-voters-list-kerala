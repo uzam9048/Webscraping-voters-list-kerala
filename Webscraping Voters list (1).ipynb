{
 "cells": [
  {
   "cell_type": "markdown",
   "metadata": {},
   "source": [
    "# WEBSCRAPING VOTERS LIST\n",
    "\n",
    "In this notebook we scrape the datas from voters list of various polling booth from kerala election commission official site using selenium and beautifulsoap python Packages"
   ]
  },
  {
   "cell_type": "code",
   "execution_count": 32,
   "metadata": {},
   "outputs": [
    {
     "name": "stdout",
     "output_type": "stream",
     "text": [
      "200\n"
     ]
    }
   ],
   "source": [
    "import requests\n",
    "from bs4 import BeautifulSoup\n",
    "from selenium import webdriver\n",
    "from selenium.webdriver.common.keys import Keys\n",
    "import pandas as pd\n",
    "import numpy as np\n",
    "import time\n",
    "#pip install selenium\n",
    "\n",
    "url = 'http://lsgelection.kerala.gov.in/voters/view'\n",
    "\n",
    "r = requests.get(url)\n",
    "\n",
    "print(r.status_code)"
   ]
  },
  {
   "cell_type": "markdown",
   "metadata": {},
   "source": [
    "Selenium requires a web driver to interface with the chosen browser. Web drivers is a package to interact with a web browser. It interacts with the web browser or a remote web server through a wire protocol which is common to all. You can check out and install the web drivers of your browser choice.\n",
    "\n",
    "Chrome:  https://sites.google.com/a/chromium.org/chromedriver/downloads\n",
    "\n",
    "Firefox: https://github.com/mozilla/geckodriver/releases\n",
    "\n",
    "Safari:  https://webkit.org/blog/6900/webdriver-support-in-safari-10/\n",
    "\n",
    "install web driver for your browser and set path to where you extracted the zip file"
   ]
  },
  {
   "cell_type": "code",
   "execution_count": 33,
   "metadata": {},
   "outputs": [],
   "source": [
    "#Pop up window appears, then Select Ward and polling booth \n",
    "PATH = \"C:/Users/shafe/Desktop/my work/chromedriver.exe\"\n",
    "driver = webdriver.Chrome(PATH)  \n",
    "driver.get(url)"
   ]
  },
  {
   "cell_type": "code",
   "execution_count": 34,
   "metadata": {},
   "outputs": [],
   "source": [
    "html= driver.page_source\n",
    "soup = BeautifulSoup(html,'html.parser')"
   ]
  },
  {
   "cell_type": "code",
   "execution_count": 35,
   "metadata": {},
   "outputs": [],
   "source": [
    "tables = soup.find_all(\"table\")"
   ]
  },
  {
   "cell_type": "code",
   "execution_count": 36,
   "metadata": {},
   "outputs": [
    {
     "name": "stdout",
     "output_type": "stream",
     "text": [
      "DISTRICT:  ALAPPUZHA\n",
      "LOCAL BODY:  G04002-Chennam Pallippuram\n",
      "WARD:  002-KADABANAKULANGARA\n",
      "POLLING STATION:  001-PALLUVELILBHAGAM GOVT.U.P.SCHOOL SOUTH BUILDING WEST PORTION\n"
     ]
    }
   ],
   "source": [
    "table = tables[0]\n",
    "tab_data1 = [[cell.text for cell in row.find_all([\"th\",\"td\"])]\n",
    "                        for row in table.find_all(\"tr\")]\n",
    "\n",
    "print(tab_data1[0][0],tab_data1[0][1])\n",
    "print(tab_data1[0][2],tab_data1[0][3])\n",
    "print(tab_data1[1][0],tab_data1[1][1])\n",
    "print(tab_data1[1][2],tab_data1[1][3])"
   ]
  },
  {
   "cell_type": "code",
   "execution_count": 37,
   "metadata": {},
   "outputs": [
    {
     "data": {
      "text/html": [
       "<div>\n",
       "<style scoped>\n",
       "    .dataframe tbody tr th:only-of-type {\n",
       "        vertical-align: middle;\n",
       "    }\n",
       "\n",
       "    .dataframe tbody tr th {\n",
       "        vertical-align: top;\n",
       "    }\n",
       "\n",
       "    .dataframe thead th {\n",
       "        text-align: right;\n",
       "    }\n",
       "</style>\n",
       "<table border=\"1\" class=\"dataframe\">\n",
       "  <thead>\n",
       "    <tr style=\"text-align: right;\">\n",
       "      <th></th>\n",
       "      <th>Name</th>\n",
       "      <th>Guardian's Name</th>\n",
       "      <th>New House No.</th>\n",
       "      <th>House Name</th>\n",
       "      <th>ID Card No.</th>\n",
       "      <th>Gender</th>\n",
       "      <th>Age</th>\n",
       "    </tr>\n",
       "    <tr>\n",
       "      <th>Serial No</th>\n",
       "      <th></th>\n",
       "      <th></th>\n",
       "      <th></th>\n",
       "      <th></th>\n",
       "      <th></th>\n",
       "      <th></th>\n",
       "      <th></th>\n",
       "    </tr>\n",
       "  </thead>\n",
       "  <tbody>\n",
       "    <tr>\n",
       "      <th>1</th>\n",
       "      <td>Jose</td>\n",
       "      <td>Eayyo</td>\n",
       "      <td>1</td>\n",
       "      <td>Kottilangad</td>\n",
       "      <td>KL/15/098/327056</td>\n",
       "      <td>M</td>\n",
       "      <td>65</td>\n",
       "    </tr>\n",
       "    <tr>\n",
       "      <th>2</th>\n",
       "      <td>Molly</td>\n",
       "      <td>Jose</td>\n",
       "      <td>1</td>\n",
       "      <td>Kottilangad</td>\n",
       "      <td>KL/15/098/327288</td>\n",
       "      <td>F</td>\n",
       "      <td>63</td>\n",
       "    </tr>\n",
       "    <tr>\n",
       "      <th>3</th>\n",
       "      <td>Jobartt Jose</td>\n",
       "      <td>Jose</td>\n",
       "      <td>1</td>\n",
       "      <td>Korarilangatt</td>\n",
       "      <td>KBZ1162304</td>\n",
       "      <td>M</td>\n",
       "      <td>36</td>\n",
       "    </tr>\n",
       "    <tr>\n",
       "      <th>4</th>\n",
       "      <td>Gresamma</td>\n",
       "      <td>Joseph</td>\n",
       "      <td>3</td>\n",
       "      <td>littleflowercottege</td>\n",
       "      <td>WMB0445932</td>\n",
       "      <td>F</td>\n",
       "      <td>70</td>\n",
       "    </tr>\n",
       "    <tr>\n",
       "      <th>5</th>\n",
       "      <td>Lisiyumol</td>\n",
       "      <td>Gresamma</td>\n",
       "      <td>3</td>\n",
       "      <td>Koraralangatt</td>\n",
       "      <td>KBZ1258649</td>\n",
       "      <td>F</td>\n",
       "      <td>34</td>\n",
       "    </tr>\n",
       "  </tbody>\n",
       "</table>\n",
       "</div>"
      ],
      "text/plain": [
       "0                      Name Guardian's Name New House No.  \\\n",
       "Serial No                                                   \n",
       "1                    Jose           Eayyo               1   \n",
       "2                   Molly            Jose               1   \n",
       "3            Jobartt Jose            Jose               1   \n",
       "4                Gresamma          Joseph               3   \n",
       "5               Lisiyumol        Gresamma               3   \n",
       "\n",
       "0                       House Name       ID Card No. Gender  Age  \n",
       "Serial No                                                         \n",
       "1                    Kottilangad    KL/15/098/327056     M    65  \n",
       "2                    Kottilangad    KL/15/098/327288     F    63  \n",
       "3                  Korarilangatt          KBZ1162304     M    36  \n",
       "4            littleflowercottege          WMB0445932     F    70  \n",
       "5                  Koraralangatt          KBZ1258649     F    34  "
      ]
     },
     "execution_count": 37,
     "metadata": {},
     "output_type": "execute_result"
    }
   ],
   "source": [
    "table = tables[1]\n",
    "tab_data = [[cell.text for cell in row.find_all([\"th\",\"td\"])]\n",
    "                        for row in table.find_all(\"tr\")]\n",
    "df = pd.DataFrame(tab_data)\n",
    "df.columns = df.iloc[0,:]\n",
    "df.drop(index=0,inplace=True)\n",
    "df.set_index('Serial No',inplace=True)\n",
    "df= df[:-1]\n",
    "df = df.rename(columns = {'Gender / Age': 'gender'})\n",
    "df[['Gender','Age']] = df.gender.str.split(\"/\",expand=True)\n",
    "del df['gender']\n",
    "df.head()"
   ]
  },
  {
   "cell_type": "code",
   "execution_count": 38,
   "metadata": {},
   "outputs": [],
   "source": [
    "#Download the file to csv \n",
    "filename = tab_data1[0][1]+\" \"+tab_data1[0][3]+\" \"+tab_data1[1][1]+\" \"+tab_data1[1][3]\n",
    "df.to_csv(filename+\".csv\")\n",
    "driver.close()"
   ]
  },
  {
   "cell_type": "code",
   "execution_count": null,
   "metadata": {},
   "outputs": [],
   "source": []
  },
  {
   "cell_type": "code",
   "execution_count": null,
   "metadata": {},
   "outputs": [],
   "source": []
  }
 ],
 "metadata": {
  "kernelspec": {
   "display_name": "Python 3",
   "language": "python",
   "name": "python3"
  },
  "language_info": {
   "codemirror_mode": {
    "name": "ipython",
    "version": 3
   },
   "file_extension": ".py",
   "mimetype": "text/x-python",
   "name": "python",
   "nbconvert_exporter": "python",
   "pygments_lexer": "ipython3",
   "version": "3.7.6"
  }
 },
 "nbformat": 4,
 "nbformat_minor": 4
}
